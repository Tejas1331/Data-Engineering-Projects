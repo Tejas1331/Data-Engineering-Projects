{
 "cells": [
  {
   "cell_type": "code",
   "execution_count": 1,
   "id": "84cc4282",
   "metadata": {},
   "outputs": [],
   "source": [
    "import pandas as pd\n",
    "from confluent_kafka import SerializingProducer\n",
    "from confluent_kafka.schema_registry import SchemaRegistryClient\n",
    "from confluent_kafka.schema_registry.avro import AvroSerializer\n",
    "from confluent_kafka.serialization import StringSerializer"
   ]
  },
  {
   "cell_type": "code",
   "execution_count": 2,
   "id": "15f8fca4",
   "metadata": {},
   "outputs": [
    {
     "name": "stdout",
     "output_type": "stream",
     "text": [
      "                           order_id                       customer_id  \\\n",
      "0  e481f51cbdc54678b7cc49136f2d6af7  9ef432eb6251297304e76186b10a928d   \n",
      "1  53cdb2fc8bc7dce0b6741e2150273451  b0830fb4747a6c6d20dea0b8c802d7ef   \n",
      "2  47770eb9100c2d0c44946d9cf07ec65d  41ce2a54c0b03bf3443c3d931a367089   \n",
      "3  949d5b44dbf5de918fe9c16f97b45f8a  f88197465ea7920adcdbec7375364d82   \n",
      "4  ad21c59c0840e6cb83a9ceb5573f8159  8ab97904e6daea8866dbdbc4fb7aad2c   \n",
      "\n",
      "  order_status order_purchase_timestamp order_approved_at  \\\n",
      "0    delivered         02-10-2017 10:56  02-10-2017 11:07   \n",
      "1    delivered         24-07-2018 20:41  26-07-2018 03:24   \n",
      "2    delivered         08-08-2018 08:38  08-08-2018 08:55   \n",
      "3    delivered         18-11-2017 19:28  18-11-2017 19:45   \n",
      "4    delivered         13-02-2018 21:18  13-02-2018 22:20   \n",
      "\n",
      "  order_delivered_carrier_date order_delivered_customer_date  \\\n",
      "0             04-10-2017 19:55              10-10-2017 21:25   \n",
      "1             26-07-2018 14:31              07-08-2018 15:27   \n",
      "2             08-08-2018 13:50              17-08-2018 18:06   \n",
      "3             22-11-2017 13:39              02-12-2017 00:28   \n",
      "4             14-02-2018 19:46              16-02-2018 18:17   \n",
      "\n",
      "  order_estimated_delivery_date  \n",
      "0              18-10-2017 00:00  \n",
      "1              13-08-2018 00:00  \n",
      "2              04-09-2018 00:00  \n",
      "3              15-12-2017 00:00  \n",
      "4              26-02-2018 00:00  \n",
      "order_id                         object\n",
      "customer_id                      object\n",
      "order_status                     object\n",
      "order_purchase_timestamp         object\n",
      "order_approved_at                object\n",
      "order_delivered_carrier_date     object\n",
      "order_delivered_customer_date    object\n",
      "order_estimated_delivery_date    object\n",
      "dtype: object\n"
     ]
    }
   ],
   "source": [
    "#Load csv into pandas dataframe\n",
    "df = pd.read_csv('olist_orders_dataset.csv')\n",
    "\n",
    "# Examine it's structure and contents\n",
    "print(df.head())\n",
    "print(df.dtypes)"
   ]
  },
  {
   "cell_type": "code",
   "execution_count": 3,
   "id": "57b87468",
   "metadata": {},
   "outputs": [],
   "source": [
    "def delivery_report(err, msg):\n",
    "    \"\"\"\n",
    "    Reports the failure or success of a message delivery.\n",
    "\n",
    "    Args:\n",
    "        err (KafkaError): The error that occurred on None on success.\n",
    "\n",
    "        msg (Message): The message that was produced or failed.\n",
    "\n",
    "    Note:\n",
    "        In the delivery report callback the Message.key() and Message.value()\n",
    "        will be the binary format as encoded by any configured Serializers and\n",
    "        not the same object that was passed to produce().\n",
    "        If you wish to pass the original object(s) for key and value to delivery\n",
    "        report callback we recommend a bound callback or lambda where you pass\n",
    "        the objects along.\n",
    "\n",
    "    \"\"\"\n",
    "    if err is not None:\n",
    "        print(\"Delivery failed for record {}: {}\".format(msg.key(), err))\n",
    "        return\n",
    "    print('Record {} successfully produced to {} [{}] at offset {}'.format(\n",
    "        msg.key(), msg.topic(), msg.partition(), msg.offset()))"
   ]
  },
  {
   "cell_type": "code",
   "execution_count": 4,
   "id": "f44d7b0d",
   "metadata": {},
   "outputs": [],
   "source": [
    "# Define Kafka configuration\n",
    "kafka_config = {\n",
    "    'bootstrap.servers': 'pkc-41p56.asia-south1.gcp.confluent.cloud:9092',\n",
    "    'sasl.mechanisms': 'PLAIN',\n",
    "    'security.protocol': 'SASL_SSL',\n",
    "    'sasl.username': 'VWF3LDWHI4SZPTMB',\n",
    "    'sasl.password': 'Xm2e+b34daf+74ZovKjLinsadoZUvF/7tcl1ou8oRlrKJsWDEcLPGztXV4Xtipi5'\n",
    "}"
   ]
  },
  {
   "cell_type": "code",
   "execution_count": 5,
   "id": "6b44adff",
   "metadata": {},
   "outputs": [],
   "source": [
    "# Create a Schema Registry client\n",
    "schema_registry_client = SchemaRegistryClient({\n",
    "  'url': 'https://psrc-gk071.us-east-2.aws.confluent.cloud',\n",
    "  'basic.auth.user.info': '{}:{}'.format('A7W6OLA7F7BVXXZJ', '8CePTTqwTTCOKlJHCEn4hcOZIi6LgZz6CN0GUpv7wz+VYFVaoyVAPbNTLLch8DML')\n",
    "})\n"
   ]
  },
  {
   "cell_type": "code",
   "execution_count": 6,
   "id": "3d195fc8",
   "metadata": {},
   "outputs": [
    {
     "name": "stdout",
     "output_type": "stream",
     "text": [
      "{\"type\":\"record\",\"name\":\"Ecommerce\",\"namespace\":\"com.kaggle.onlineretail\",\"fields\":[{\"name\":\"order_id\",\"type\":\"string\"},{\"name\":\"customer_id\",\"type\":\"string\"},{\"name\":\"order_status\",\"type\":\"string\"},{\"name\":\"order_purchase_timestamp\",\"type\":[\"long\",\"int\",\"string\"]},{\"name\":\"order_approved_at\",\"type\":[\"null\",\"long\",\"string\"],\"default\":null},{\"name\":\"order_delivered_carrier_date\",\"type\":[\"null\",\"long\",\"string\"],\"default\":null},{\"name\":\"order_delivered_customer_date\",\"type\":[\"null\",\"long\",\"string\"],\"default\":null},{\"name\":\"order_estimated_delivery_date\",\"type\":[\"null\",\"long\",\"string\"],\"default\":null}]}\n"
     ]
    }
   ],
   "source": [
    "# Fetch the latest Avro schema for the value\n",
    "subject_name = 'E-commerce_orders-value'\n",
    "schema_str = schema_registry_client.get_latest_version(subject_name).schema.schema_str\n",
    "print(schema_str)"
   ]
  },
  {
   "cell_type": "code",
   "execution_count": 7,
   "id": "a77a1dba",
   "metadata": {},
   "outputs": [],
   "source": [
    "# Create Avro Serializer for the value\n",
    "key_serializer = StringSerializer('utf_8')\n",
    "avro_serializer = AvroSerializer(schema_registry_client, schema_str)"
   ]
  },
  {
   "cell_type": "code",
   "execution_count": 8,
   "id": "9e28c737",
   "metadata": {},
   "outputs": [],
   "source": [
    "# Define the SerializingProducer\n",
    "producer = SerializingProducer({\n",
    "    'bootstrap.servers': kafka_config['bootstrap.servers'],\n",
    "    'security.protocol': kafka_config['security.protocol'],\n",
    "    'sasl.mechanisms': kafka_config['sasl.mechanisms'],\n",
    "    'sasl.username': kafka_config['sasl.username'],\n",
    "    'sasl.password': kafka_config['sasl.password'],\n",
    "    'key.serializer': key_serializer,  # Key will be serialized as a string\n",
    "    'value.serializer': avro_serializer  # Value will be serialized as Avro\n",
    "})"
   ]
  },
  {
   "cell_type": "code",
   "execution_count": 9,
   "id": "30ef3ade",
   "metadata": {},
   "outputs": [
    {
     "name": "stdout",
     "output_type": "stream",
     "text": [
      "Record b'9ef432eb6251297304e76186b10a928d_e481f51cbdc54678b7cc49136f2d6af7' successfully produced to E-commerce_orders [1] at offset 72\n",
      "Record b'b0830fb4747a6c6d20dea0b8c802d7ef_53cdb2fc8bc7dce0b6741e2150273451' successfully produced to E-commerce_orders [1] at offset 73\n",
      "Record b'41ce2a54c0b03bf3443c3d931a367089_47770eb9100c2d0c44946d9cf07ec65d' successfully produced to E-commerce_orders [4] at offset 96\n",
      "Record b'f88197465ea7920adcdbec7375364d82_949d5b44dbf5de918fe9c16f97b45f8a' successfully produced to E-commerce_orders [2] at offset 104\n",
      "Record b'8ab97904e6daea8866dbdbc4fb7aad2c_ad21c59c0840e6cb83a9ceb5573f8159' successfully produced to E-commerce_orders [4] at offset 97\n",
      "Record b'503740e9ca751ccdda7ba28e9ab8f608_a4591c265e18cb1dcee52889e2d8acc3' successfully produced to E-commerce_orders [1] at offset 74\n",
      "Record b'ed0271e0b7da060a393796590e7b737a_136cce7faa42fdb2cefd53fdc79a6098' successfully produced to E-commerce_orders [3] at offset 56\n",
      "Record b'9bdf08b4b3b52b5526ff42d37d47f222_6514b8ad8028c9f2cc2374ded245783f' successfully produced to E-commerce_orders [2] at offset 105\n",
      "Record b'f54a9f0e6b351c431402b8461ea51999_76c6e866289321a7c93b82b54852dc33' successfully produced to E-commerce_orders [4] at offset 98\n",
      "Record b'31ad1d1b63eb9962463f764d4e6e0c9d_e69bfb5eb88e0ed6a785585b27e16dbf' successfully produced to E-commerce_orders [0] at offset 72\n",
      "Record b'494dded5b201313c64ed7f100595b95c_e6ce16cb79ec1d90b1da9085a6118aeb' successfully produced to E-commerce_orders [0] at offset 73\n",
      "Record b'7711cf624183d843aafe81855097bc37_34513ce0c4fab462a55830c0989c7edb' successfully produced to E-commerce_orders [2] at offset 106\n",
      "Record b'd3e3b74c766bc6214e0c830b17ee2341_82566a660a982b15fb86e904c8d32918' successfully produced to E-commerce_orders [4] at offset 99\n",
      "Record b'19402a48fe860416adf93348aba37740_5ff96c15d0b717ac6ad1f3d77225a350' successfully produced to E-commerce_orders [2] at offset 107\n",
      "Record b'3df704f53d3f1d4818840b34ec672a9f_432aaf21d85167c2c86ec9448c4e42cc' successfully produced to E-commerce_orders [4] at offset 100\n",
      "Record b'3b6828a50ffe546942b7a473d70ac0fc_dcb36b511fcac050b97cd5c05de84dc3' successfully produced to E-commerce_orders [0] at offset 74\n",
      "Record b'738b086814c6fcc74b8cc583f8516ee3_403b97836b0c04a622354cf531062e5f' successfully produced to E-commerce_orders [2] at offset 108\n",
      "Record b'3187789bec990987628d7a9beb4dd6ac_116f0b09343b49556bbad5f35bee0cdf' successfully produced to E-commerce_orders [3] at offset 57\n",
      "Record b'059f7fc5719c7da6cbafe370971a8d70_85ce859fd6dc634de8d2f1e290444043' successfully produced to E-commerce_orders [0] at offset 75\n",
      "Record b'7f8c8b9c2ae27bf3300f670c3d478be8_83018ec114eee8641c97e08f7b4e926f' successfully produced to E-commerce_orders [1] at offset 75\n",
      "Record b'd2b091571da224a1b36412c18bc3bbfe_203096f03d82e0dffbc41ebc2e2bcfb7' successfully produced to E-commerce_orders [3] at offset 58\n",
      "Record b'4fa1cd166fa598be6de80fa84eaade43_f848643eec1d69395095eb3840d2051e' successfully produced to E-commerce_orders [4] at offset 101\n",
      "Record b'72ae281627a6102d9b3718528b420f8a_2807d0e504d6d4894d41672727bc139f' successfully produced to E-commerce_orders [0] at offset 76\n",
      "Record b'a166da34890074091a942054b36e4265_95266dbfb7e20354baba07964dac78d5' successfully produced to E-commerce_orders [1] at offset 76\n",
      "Record b'62b423aab58096ca514ba6aa06be2f98_f3e7c359154d965827355f39d6b1fdac' successfully produced to E-commerce_orders [0] at offset 77\n",
      "Record b'3a874b4d4c4b6543206ff5d89287f0c3_fbf9ac61453ac646ce8ad9783d7d0af6' successfully produced to E-commerce_orders [2] at offset 109\n",
      "Record b'7e20bf5ca92da68200643bda76c504c6_acce194856392f074dbf9dada14d8d82' successfully produced to E-commerce_orders [0] at offset 78\n",
      "Record b'8b212b9525f9e74e85e37ed6df37693e_dd78f560c270f1909639c11b925620ea' successfully produced to E-commerce_orders [3] at offset 59\n",
      "Record b'cce89a605105b148387c52e286ac8335_91b2a010e1e45e6ba3d133fa997597be' successfully produced to E-commerce_orders [0] at offset 79\n",
      "Record b'761df82feda9778854c6dafdaeb567e4_ecab90c9933c58908d3d6add7c6f5ae3' successfully produced to E-commerce_orders [2] at offset 110\n",
      "Record b'456dc10730fbdba34615447ea195d643_f70a0aff17df5a6cdd9a7196128bd354' successfully produced to E-commerce_orders [3] at offset 60\n",
      "Record b'52142aa69d8d0e1247ab0cada0f76023_1790eea0b567cf50911c057cf20f90f9' successfully produced to E-commerce_orders [2] at offset 111\n",
      "Record b'816f8653d5361cbf94e58c33f2502a5c_989225ba6d0ebd5873335f7e01de2ae7' successfully produced to E-commerce_orders [3] at offset 61\n",
      "Record b'd9ef95f98d8da3b492bb8c0447910498_d887b52c6516beb39e8cd44a5f8b60f7' successfully produced to E-commerce_orders [4] at offset 102\n",
      "Record b'cf8ffeddf027932e51e4eae73b384059_b276e4f8c0fb86bd82fce576f21713e0' successfully produced to E-commerce_orders [1] at offset 77\n",
      "Record b'5f16605299d698660e0606f7eae2d2f9_8563039e855156e48fccee4d611a3196' successfully produced to E-commerce_orders [4] at offset 103\n",
      "Record b'f5458ddc3545711efa883dd7ae7c4497_60550084e6b4c0cb89a87df1f3e5ebd9' successfully produced to E-commerce_orders [4] at offset 104\n",
      "Record b'295ae9b35379e077273387ff64354b6f_5acce57f8d9dfd55fa48e212a641a69d' successfully produced to E-commerce_orders [2] at offset 112\n",
      "Record b'2a1dfb647f32f4390e7b857c67458536_434d158e96bdd6972ad6e6d73ddcfd22' successfully produced to E-commerce_orders [1] at offset 78\n",
      "Record b'3391c4bc11a817e7973e498b0b023158_7206b86ea789983f7a273ea7fa0bc2a8' successfully produced to E-commerce_orders [4] at offset 105\n",
      "Record b'ddaff536587109b89777e0353215e150_1e7aff52cdbb2451ace09d0f848c3699' successfully produced to E-commerce_orders [2] at offset 113\n",
      "Record b'c7340080e394356141681bd4c9b8fe31_6ea2f835b4556291ffdc53fa0b3b95e8' successfully produced to E-commerce_orders [0] at offset 80\n",
      "Record b'8644be24d48806bc3a88fd59fb47ceb1_948097deef559c742e7ce321e5e58919' successfully produced to E-commerce_orders [1] at offset 79\n",
      "Record b'756fb9391752dad934e0fe3733378e57_d22e9fa5731b9e30e8b27afcdc2f8563' successfully produced to E-commerce_orders [4] at offset 106\n",
      "Record b'caded193e8e47b8362864762a83db3c5_ee64d42b8cf066f35eac1cf57de1aa85' successfully produced to E-commerce_orders [2] at offset 114\n",
      "Record b'4f28355e5c17a4a42d3ce2439a1d4501_6ebaec694d7025e2ad4a05dba887c032' successfully produced to E-commerce_orders [2] at offset 115\n",
      "Record b'569cf68214806a39acc0f39344aea67f_d17dc4a904426827ca80f2ccb3a6be56' successfully produced to E-commerce_orders [3] at offset 62\n",
      "Record b'12fd2740039676063a874b9567dfa651_25f4376934e13d3508486352e11a5db0' successfully produced to E-commerce_orders [4] at offset 107\n",
      "Record b'2b56e94c2f66f2d97cfa63356f69cee8_5820a1100976432c7968a52da59e9364' successfully produced to E-commerce_orders [1] at offset 80\n",
      "Record b'7f2178c5d771e17f507d3c1637339298_2ce1ad82022c1ba30c2079502ac725aa' successfully produced to E-commerce_orders [2] at offset 116\n",
      "Data successfully published to Kafka\n"
     ]
    }
   ],
   "source": [
    "count = 0\n",
    "# Iterate over DataFrame rows and produce to Kafka\n",
    "for index, row in df.iterrows():\n",
    "    if count < 50:\n",
    "        key = f\"{row['customer_id']}_{row['order_id']}\"\n",
    "        # Replace NaN values with None in the DataFrame\n",
    "        row = row.where(pd.notna(row), None)\n",
    "\n",
    "        # Create a dictionary from the row values\n",
    "        value = row.to_dict()\n",
    "        # print(value)\n",
    "        # Produce to Kafka\n",
    "        producer.produce(topic='E-commerce_orders', key=str(key), value=value, on_delivery=delivery_report)\n",
    "        producer.flush()\n",
    "        count += 1\n",
    "\n",
    "print(\"Data successfully published to Kafka\")"
   ]
  },
  {
   "cell_type": "code",
   "execution_count": null,
   "id": "235f9886",
   "metadata": {},
   "outputs": [],
   "source": []
  },
  {
   "cell_type": "code",
   "execution_count": null,
   "id": "7fa999d5",
   "metadata": {},
   "outputs": [],
   "source": []
  }
 ],
 "metadata": {
  "kernelspec": {
   "display_name": "Python 3 (ipykernel)",
   "language": "python",
   "name": "python3"
  },
  "language_info": {
   "codemirror_mode": {
    "name": "ipython",
    "version": 3
   },
   "file_extension": ".py",
   "mimetype": "text/x-python",
   "name": "python",
   "nbconvert_exporter": "python",
   "pygments_lexer": "ipython3",
   "version": "3.9.12"
  }
 },
 "nbformat": 4,
 "nbformat_minor": 5
}
