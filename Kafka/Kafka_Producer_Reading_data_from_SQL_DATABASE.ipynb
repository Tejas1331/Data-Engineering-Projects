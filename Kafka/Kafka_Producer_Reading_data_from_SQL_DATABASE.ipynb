{
 "cells": [
  {
   "cell_type": "code",
   "execution_count": 27,
   "id": "1c284fd9",
   "metadata": {},
   "outputs": [],
   "source": [
    "import datetime\n",
    "import threading\n",
    "from decimal import *\n",
    "from time import sleep\n",
    "from uuid import uuid4, UUID\n",
    "import json\n",
    "\n",
    "from confluent_kafka import SerializingProducer\n",
    "from confluent_kafka.schema_registry import SchemaRegistryClient\n",
    "from confluent_kafka.schema_registry.avro import AvroSerializer\n",
    "from confluent_kafka.serialization import StringSerializer\n",
    "import mysql.connector\n",
    "import pandas as pd"
   ]
  },
  {
   "cell_type": "code",
   "execution_count": 28,
   "id": "d6cf7071",
   "metadata": {},
   "outputs": [],
   "source": [
    "def delivery_report(err, msg):\n",
    "    \"\"\"\n",
    "    Reports the failure or success of a message delivery.\n",
    "\n",
    "    Args:\n",
    "        err (KafkaError): The error that occurred on None on success.\n",
    "        msg (Message): The message that was produced or failed.\n",
    "\n",
    "    Note:\n",
    "        In the delivery report callback the Message.key() and Message.value()\n",
    "        will be the binary format as encoded by any configured Serializers and\n",
    "        not the same object that was passed to produce().\n",
    "        If you wish to pass the original object(s) for key and value to delivery\n",
    "        report callback we recommend a bound callback or lambda where you pass\n",
    "        the objects along.\n",
    "    \"\"\"\n",
    "    if err is not None:\n",
    "        print(\"Delivery failed for record {}: {}\".format(msg.key(), err))\n",
    "        return\n",
    "    print('Record {} successfully produced to {} [{}] at offset {}'.format(\n",
    "        msg.key(), msg.topic(), msg.partition(), msg.offset()))"
   ]
  },
  {
   "cell_type": "code",
   "execution_count": 29,
   "id": "dcaa2235",
   "metadata": {},
   "outputs": [],
   "source": [
    "# Define Kafka configuration\n",
    "kafka_config = {\n",
    "    'bootstrap.servers': 'YOUR SERVER',\n",
    "    'sasl.mechanisms': 'PLAIN',\n",
    "    'security.protocol': 'SASL_SSL',\n",
    "    'sasl.username': 'YOUR USERNAME(API KEYS)',\n",
    "    'sasl.password': 'YOUR PASSWORD(API KEYS PASSWORD)',\n",
    "}"
   ]
  },
  {
   "cell_type": "code",
   "execution_count": 30,
   "id": "9678909f",
   "metadata": {},
   "outputs": [],
   "source": [
    "# Database connection\n",
    "connection = mysql.connector.connect(\n",
    "    host='localhost',\n",
    "    user='',\n",
    "    password='',\n",
    "    database='db3'\n",
    ")\n",
    "cursor = connection.cursor()"
   ]
  },
  {
   "cell_type": "code",
   "execution_count": 31,
   "id": "c2e2af7c",
   "metadata": {},
   "outputs": [],
   "source": [
    "# Create a Schema Registry client\n",
    "schema_registry_client = SchemaRegistryClient({\n",
    "  'url': 'ENDPOINT URL',\n",
    "  'basic.auth.user.info': '{}:{}'.format('YOUR SCHEMA REGISTRY KEY', 'YOUR SCHEMA REGISTRY PASSWORD')\n",
    "})"
   ]
  },
  {
   "cell_type": "code",
   "execution_count": 32,
   "id": "a1e7842d",
   "metadata": {},
   "outputs": [],
   "source": [
    "# Fetch the latest Avro schema for the value\n",
    "subject_name = 'product_data-value'\n",
    "schema_str = schema_registry_client.get_latest_version(subject_name).schema.schema_str"
   ]
  },
  {
   "cell_type": "code",
   "execution_count": 33,
   "id": "cb93e87a",
   "metadata": {},
   "outputs": [],
   "source": [
    "# Create Avro Serializer for the value\n",
    "key_serializer = StringSerializer('utf_8')\n",
    "avro_serializer = AvroSerializer(schema_registry_client, schema_str)"
   ]
  },
  {
   "cell_type": "code",
   "execution_count": 34,
   "id": "000b5aa8",
   "metadata": {},
   "outputs": [],
   "source": [
    "# Define the SerializingProducer\n",
    "producer = SerializingProducer({\n",
    "    'bootstrap.servers': kafka_config['bootstrap.servers'],\n",
    "    'security.protocol': kafka_config['security.protocol'],\n",
    "    'sasl.mechanisms': kafka_config['sasl.mechanisms'],\n",
    "    'sasl.username': kafka_config['sasl.username'],\n",
    "    'sasl.password': kafka_config['sasl.password'],\n",
    "    'key.serializer': key_serializer,  # Key will be serialized as a string\n",
    "    'value.serializer': avro_serializer  # Value will be serialized as Avro\n",
    "})"
   ]
  },
  {
   "cell_type": "code",
   "execution_count": 35,
   "id": "5859bf19",
   "metadata": {},
   "outputs": [],
   "source": [
    "config_data = {}\n",
    "\n",
    "try:\n",
    "    with open('config.json') as f:\n",
    "        config_data = json.load(f)\n",
    "        last_read_timestamp = config_data.get('last_read_timestamp')\n",
    "except FileNotFoundError:\n",
    "    pass"
   ]
  },
  {
   "cell_type": "code",
   "execution_count": 36,
   "id": "75476a34",
   "metadata": {},
   "outputs": [],
   "source": [
    "# Set a default value for last_read_timestamp\n",
    "if last_read_timestamp is None:\n",
    "    last_read_timestamp = '1900-01-01 00:00:00'"
   ]
  },
  {
   "cell_type": "code",
   "execution_count": 37,
   "id": "fc841f2a",
   "metadata": {},
   "outputs": [],
   "source": [
    "#try:\n",
    "#    with open('config.json') as f:\n",
    "#        config_data = json.load(f)\n",
    "#        last_read_timestamp = config_data.get('last_read_timestamp')\n",
    "#        print(\"yes\",last_read_timestamp)\n",
    "#except FileNotFoundError:\n",
    "#    pass"
   ]
  },
  {
   "cell_type": "code",
   "execution_count": 38,
   "id": "47e79cd7",
   "metadata": {},
   "outputs": [
    {
     "name": "stdout",
     "output_type": "stream",
     "text": [
      "{'ID': 4033, 'name': 'touring', 'category': 'BMW', 'price': 391.88, 'last_updated': datetime.datetime(2023, 9, 30, 15, 54, 59)}\n",
      "Record b'4033' successfully produced to product_data [3] at offset 352\n",
      "{'ID': 4051, 'name': 'sports', 'category': 'BMW', 'price': 952.94, 'last_updated': datetime.datetime(2023, 9, 30, 15, 57, 59)}\n",
      "Record b'4051' successfully produced to product_data [1] at offset 376\n",
      "{'ID': 4052, 'name': 'suv', 'category': 'BMW', 'price': 309.3, 'last_updated': datetime.datetime(2023, 9, 30, 15, 58, 59)}\n",
      "Record b'4052' successfully produced to product_data [3] at offset 353\n",
      "{'ID': 4092, 'name': 'touring', 'category': 'Bentley', 'price': 291.78, 'last_updated': datetime.datetime(2023, 9, 30, 15, 57, 59)}\n",
      "Record b'4092' successfully produced to product_data [2] at offset 318\n",
      "{'ID': 4121, 'name': 'luxury', 'category': 'BMW', 'price': 353.94, 'last_updated': datetime.datetime(2023, 9, 30, 15, 51, 59)}\n",
      "Record b'4121' successfully produced to product_data [2] at offset 319\n",
      "{'ID': 4159, 'name': 'sedan', 'category': 'BMW', 'price': 908.19, 'last_updated': datetime.datetime(2023, 9, 30, 15, 55)}\n",
      "Record b'4159' successfully produced to product_data [3] at offset 354\n",
      "{'ID': 4225, 'name': 'hatch-back', 'category': 'Bentley', 'price': 390.04, 'last_updated': datetime.datetime(2023, 9, 30, 15, 59)}\n",
      "Record b'4225' successfully produced to product_data [4] at offset 393\n",
      "{'ID': 4232, 'name': 'touring', 'category': 'Audi', 'price': 780.81, 'last_updated': datetime.datetime(2023, 9, 30, 16, 1)}\n",
      "Record b'4232' successfully produced to product_data [3] at offset 355\n",
      "{'ID': 4247, 'name': 'luxury', 'category': 'Audi', 'price': 512.7, 'last_updated': datetime.datetime(2023, 9, 30, 16, 2)}\n",
      "Record b'4247' successfully produced to product_data [0] at offset 358\n",
      "{'ID': 4312, 'name': 'hatch-back', 'category': 'Mercedes-Benz', 'price': 343.51, 'last_updated': datetime.datetime(2023, 9, 30, 15, 51)}\n",
      "Record b'4312' successfully produced to product_data [4] at offset 394\n",
      "{'ID': 4324, 'name': 'sedan', 'category': 'Rolls-Royce', 'price': 729.65, 'last_updated': datetime.datetime(2023, 9, 30, 15, 54)}\n",
      "Record b'4324' successfully produced to product_data [4] at offset 395\n",
      "{'ID': 4326, 'name': 'touring', 'category': 'Bentley', 'price': 158.7, 'last_updated': datetime.datetime(2023, 9, 30, 15, 57)}\n",
      "Record b'4326' successfully produced to product_data [4] at offset 396\n",
      "{'ID': 4334, 'name': 'suv', 'category': 'Rolls-Royce', 'price': 854.41, 'last_updated': datetime.datetime(2023, 9, 30, 15, 58)}\n",
      "Record b'4334' successfully produced to product_data [1] at offset 377\n",
      "{'ID': 4353, 'name': 'touring', 'category': 'BMW', 'price': 773.86, 'last_updated': datetime.datetime(2023, 9, 30, 15, 52)}\n",
      "Record b'4353' successfully produced to product_data [2] at offset 320\n",
      "{'ID': 4358, 'name': 'sports', 'category': 'Bentley', 'price': 337.54, 'last_updated': datetime.datetime(2023, 9, 30, 15, 53)}\n",
      "Record b'4358' successfully produced to product_data [2] at offset 321\n",
      "{'ID': 4373, 'name': 'hatch-back', 'category': 'Audi', 'price': 730.19, 'last_updated': datetime.datetime(2023, 9, 30, 15, 58)}\n",
      "Record b'4373' successfully produced to product_data [2] at offset 322\n",
      "{'ID': 4374, 'name': 'sedan', 'category': 'Mercedes-Benz', 'price': 531.68, 'last_updated': datetime.datetime(2023, 9, 30, 15, 59)}\n",
      "Record b'4374' successfully produced to product_data [1] at offset 378\n",
      "{'ID': 4391, 'name': 'suv', 'category': 'BMW', 'price': 79.2, 'last_updated': datetime.datetime(2023, 9, 30, 15, 57)}\n",
      "Record b'4391' successfully produced to product_data [1] at offset 379\n",
      "{'ID': 4392, 'name': 'sports', 'category': 'Mercedes-Benz', 'price': 898.31, 'last_updated': datetime.datetime(2023, 9, 30, 15, 55)}\n",
      "Record b'4392' successfully produced to product_data [0] at offset 359\n",
      "{'ID': 4434, 'name': 'luxury', 'category': 'Audi', 'price': 574.82, 'last_updated': datetime.datetime(2023, 9, 30, 15, 52)}\n",
      "Record b'4434' successfully produced to product_data [2] at offset 323\n",
      "{'ID': 4486, 'name': 'hatch-back', 'category': 'Rolls-Royce', 'price': 727.85, 'last_updated': datetime.datetime(2023, 9, 30, 16, 2)}\n",
      "Record b'4486' successfully produced to product_data [2] at offset 324\n",
      "{'ID': 4522, 'name': 'luxury', 'category': 'Bentley', 'price': 66.48, 'last_updated': datetime.datetime(2023, 9, 30, 15, 57)}\n",
      "Record b'4522' successfully produced to product_data [1] at offset 380\n",
      "{'ID': 4552, 'name': 'hatch-back', 'category': 'Audi', 'price': 863.03, 'last_updated': datetime.datetime(2023, 9, 30, 16, 1)}\n",
      "Record b'4552' successfully produced to product_data [3] at offset 356\n",
      "{'ID': 4554, 'name': 'sedan', 'category': 'BMW', 'price': 388.82, 'last_updated': datetime.datetime(2023, 9, 30, 15, 54)}\n",
      "Record b'4554' successfully produced to product_data [2] at offset 325\n",
      "{'ID': 4591, 'name': 'sedan', 'category': 'Rolls-Royce', 'price': 42.15, 'last_updated': datetime.datetime(2023, 9, 30, 15, 52)}\n",
      "Record b'4591' successfully produced to product_data [0] at offset 360\n",
      "{'ID': 4598, 'name': 'sports', 'category': 'Audi', 'price': 753.92, 'last_updated': datetime.datetime(2023, 9, 30, 15, 53)}\n",
      "Record b'4598' successfully produced to product_data [1] at offset 381\n",
      "{'ID': 4641, 'name': 'hatch-back', 'category': 'BMW', 'price': 310.44, 'last_updated': datetime.datetime(2023, 9, 30, 16, 1)}\n",
      "Record b'4641' successfully produced to product_data [2] at offset 326\n",
      "{'ID': 4642, 'name': 'luxury', 'category': 'Audi', 'price': 491.38, 'last_updated': datetime.datetime(2023, 9, 30, 15, 53)}\n",
      "Record b'4642' successfully produced to product_data [0] at offset 361\n",
      "{'ID': 4671, 'name': 'luxury', 'category': 'Audi', 'price': 112.15, 'last_updated': datetime.datetime(2023, 9, 30, 15, 52)}\n",
      "Record b'4671' successfully produced to product_data [1] at offset 382\n",
      "{'ID': 4682, 'name': 'suv', 'category': 'BMW', 'price': 972.11, 'last_updated': datetime.datetime(2023, 9, 30, 15, 55)}\n",
      "Record b'4682' successfully produced to product_data [4] at offset 397\n",
      "{'ID': 4771, 'name': 'sedan', 'category': 'Mercedes-Benz', 'price': 883.16, 'last_updated': datetime.datetime(2023, 9, 30, 15, 58)}\n",
      "Record b'4771' successfully produced to product_data [3] at offset 357\n",
      "{'ID': 4789, 'name': 'suv', 'category': 'Rolls-Royce', 'price': 346.82, 'last_updated': datetime.datetime(2023, 9, 30, 15, 59)}\n",
      "Record b'4789' successfully produced to product_data [0] at offset 362\n",
      "{'ID': 4800, 'name': 'suv', 'category': 'Mercedes-Benz', 'price': 845.12, 'last_updated': datetime.datetime(2023, 9, 30, 16, 0)}\n",
      "Record b'4800' successfully produced to product_data [4] at offset 398\n",
      "{'ID': 4840, 'name': 'touring', 'category': 'BMW', 'price': 786.81, 'last_updated': datetime.datetime(2023, 9, 30, 15, 56)}\n",
      "Record b'4840' successfully produced to product_data [4] at offset 399\n",
      "{'ID': 4843, 'name': 'luxury', 'category': 'Audi', 'price': 603.77, 'last_updated': datetime.datetime(2023, 9, 30, 15, 55)}\n",
      "Record b'4843' successfully produced to product_data [0] at offset 363\n",
      "{'ID': 4860, 'name': 'sedan', 'category': 'Rolls-Royce', 'price': 410.64, 'last_updated': datetime.datetime(2023, 9, 30, 15, 53)}\n",
      "Record b'4860' successfully produced to product_data [2] at offset 327\n",
      "{'ID': 4904, 'name': 'touring', 'category': 'Bentley', 'price': 814.75, 'last_updated': datetime.datetime(2023, 9, 30, 15, 58)}\n",
      "Record b'4904' successfully produced to product_data [4] at offset 400\n",
      "{'ID': 4911, 'name': 'suv', 'category': 'Rolls-Royce', 'price': 462.51, 'last_updated': datetime.datetime(2023, 9, 30, 15, 55)}\n",
      "Record b'4911' successfully produced to product_data [3] at offset 358\n",
      "{'ID': 4924, 'name': 'hatch-back', 'category': 'Audi', 'price': 583.89, 'last_updated': datetime.datetime(2023, 9, 30, 15, 57)}\n",
      "Record b'4924' successfully produced to product_data [0] at offset 364\n",
      "{'ID': 4977, 'name': 'suv', 'category': 'Bentley', 'price': 158.87, 'last_updated': datetime.datetime(2023, 9, 30, 16, 0, 1)}\n",
      "Record b'4977' successfully produced to product_data [4] at offset 401\n"
     ]
    }
   ],
   "source": [
    "# Use the last_read_timestamp in the SQL query\n",
    "query = \"SELECT * FROM product WHERE last_updated > '{}'\".format(last_read_timestamp)\n",
    "\n",
    "# Execute the SQL query\n",
    "cursor.execute(query)\n",
    "\n",
    "# Check if there are any rows fetched\n",
    "rows = cursor.fetchall()\n",
    "if not rows:\n",
    "    print(\"No rows to fetch.\")\n",
    "else:\n",
    "    # Iterate over the cursor and produce to Kafka\n",
    "    for row in rows:\n",
    "        # Get the column names from the cursor description\n",
    "        columns = [column[0] for column in cursor.description]\n",
    "        # Create a dictionary from the row values\n",
    "        value = dict(zip(columns, row))\n",
    "        print(value)\n",
    "        # Produce to Kafka\n",
    "        producer.produce(topic='product_data', key=str(value['ID']), value=value, on_delivery=delivery_report)\n",
    "        producer.flush()"
   ]
  },
  {
   "cell_type": "code",
   "execution_count": 39,
   "id": "279a8e0f",
   "metadata": {},
   "outputs": [
    {
     "name": "stdout",
     "output_type": "stream",
     "text": [
      "Data successfully published to Kafka\n"
     ]
    }
   ],
   "source": [
    "# Fetch any remaining rows to consume the result\n",
    "cursor.fetchall()\n",
    "\n",
    "query = \"SELECT MAX(last_updated) FROM product\"\n",
    "cursor.execute(query)\n",
    "\n",
    "# Fetch the result\n",
    "result = cursor.fetchone()\n",
    "max_date = result[0]  # Assuming the result is a single value\n",
    "\n",
    "# Convert datetime object to string representation\n",
    "max_date_str = max_date.strftime(\"%Y-%m-%d %H:%M:%S\")\n",
    "\n",
    "# Update the value in the config.json file\n",
    "config_data['last_read_timestamp'] = max_date_str\n",
    "\n",
    "with open('config.json', 'w') as file:\n",
    "    json.dump(config_data, file)\n",
    "\n",
    "# Close the cursor and database connection\n",
    "cursor.close()\n",
    "connection.close()\n",
    "\n",
    "print(\"Data successfully published to Kafka\")"
   ]
  },
  {
   "cell_type": "code",
   "execution_count": null,
   "id": "310b973e",
   "metadata": {},
   "outputs": [],
   "source": []
  }
 ],
 "metadata": {
  "kernelspec": {
   "display_name": "Python 3 (ipykernel)",
   "language": "python",
   "name": "python3"
  },
  "language_info": {
   "codemirror_mode": {
    "name": "ipython",
    "version": 3
   },
   "file_extension": ".py",
   "mimetype": "text/x-python",
   "name": "python",
   "nbconvert_exporter": "python",
   "pygments_lexer": "ipython3",
   "version": "3.9.12"
  }
 },
 "nbformat": 4,
 "nbformat_minor": 5
}
