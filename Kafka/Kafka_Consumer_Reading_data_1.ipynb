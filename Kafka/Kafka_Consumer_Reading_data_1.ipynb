{
 "cells": [
  {
   "cell_type": "code",
   "execution_count": 33,
   "id": "d2a63ba5",
   "metadata": {},
   "outputs": [],
   "source": [
    "import threading\n",
    "from confluent_kafka import DeserializingConsumer\n",
    "from confluent_kafka.schema_registry import SchemaRegistryClient\n",
    "from confluent_kafka.schema_registry.avro import AvroDeserializer\n",
    "from confluent_kafka.serialization import StringDeserializer\n",
    "import json\n",
    "import os\n",
    "from datetime import datetime"
   ]
  },
  {
   "cell_type": "code",
   "execution_count": 34,
   "id": "581c437c",
   "metadata": {},
   "outputs": [],
   "source": [
    "# Define Kafka configuration\n",
    "kafka_config = {\n",
    "    'bootstrap.servers': 'YOUR SERVER',\n",
    "    'sasl.mechanisms': 'PLAIN',\n",
    "    'security.protocol': 'SASL_SSL',\n",
    "    'sasl.username': 'YOUR USERNAME(API KEYS)',\n",
    "    'sasl.password': 'YOUR PASSWORD(API KEYS PASSWORD)',\n",
    "    'group.id':'group30',\n",
    "    'auto.offset.reset':'latest'\n",
    "}"
   ]
  },
  {
   "cell_type": "code",
   "execution_count": 35,
   "id": "99e6d7fe",
   "metadata": {},
   "outputs": [],
   "source": [
    "# Create a Schema Registry client\n",
    "schema_registry_client = SchemaRegistryClient({\n",
    "  'url': 'ENDPOINT URL',\n",
    "  'basic.auth.user.info': '{}:{}'.format('YOUR SCHEMA REGISTRY KEY', 'YOUR SCHEMA REGISTRY PASSWORD')\n",
    "})"
   ]
  },
  {
   "cell_type": "code",
   "execution_count": 36,
   "id": "7559cb43",
   "metadata": {},
   "outputs": [],
   "source": [
    "# Fetch the latest Avro schema for the value\n",
    "subject_name = 'product_data-value'\n",
    "schema_str = schema_registry_client.get_latest_version(subject_name).schema.schema_str"
   ]
  },
  {
   "cell_type": "code",
   "execution_count": 37,
   "id": "49a65f03",
   "metadata": {},
   "outputs": [],
   "source": [
    "# Create Avro Deserializer for the value\n",
    "key_deserializer = StringDeserializer('utf_8')\n",
    "avro_deserializer = AvroDeserializer(schema_registry_client, schema_str)"
   ]
  },
  {
   "cell_type": "code",
   "execution_count": 38,
   "id": "e9169749",
   "metadata": {},
   "outputs": [],
   "source": [
    "# Define the DeserializingConsumer\n",
    "consumer = DeserializingConsumer({\n",
    "    'bootstrap.servers': kafka_config['bootstrap.servers'],\n",
    "    'security.protocol': kafka_config['security.protocol'],\n",
    "    'sasl.mechanisms': kafka_config['sasl.mechanisms'],\n",
    "    'sasl.username': kafka_config['sasl.username'],\n",
    "    'sasl.password': kafka_config['sasl.password'],\n",
    "    'key.deserializer': key_deserializer,\n",
    "    'value.deserializer': avro_deserializer,\n",
    "    'group.id': kafka_config['group.id'],\n",
    "    'auto.offset.reset': kafka_config['auto.offset.reset'],\n",
    "    #'enable.auto.commit': True,\n",
    "    #'auto.commit.interval.ms': 5000 # Commit every 5000 ms, i.e., every 5 seconds\n",
    "})"
   ]
  },
  {
   "cell_type": "code",
   "execution_count": 39,
   "id": "d381f07e",
   "metadata": {},
   "outputs": [],
   "source": [
    "# To handle serialization of datetime objects,defining a custom encoder.\n",
    "def datetime_encoder(obj):\n",
    "    if isinstance(obj, datetime):\n",
    "        return obj.isoformat()\n",
    "# Path to the separate JSON file for each consumer\n",
    "file_path = 'consumer1.json'  "
   ]
  },
  {
   "cell_type": "code",
   "execution_count": 40,
   "id": "e8fb3c41",
   "metadata": {},
   "outputs": [],
   "source": [
    "# Python function to load append the json string data into json file.\n",
    "def write_to_json_file(json_string, file_path):\n",
    "    with open(file_path, 'a') as file:\n",
    "        file.write(json_string + '\\n')\n"
   ]
  },
  {
   "cell_type": "code",
   "execution_count": 41,
   "id": "f9a97ec1",
   "metadata": {},
   "outputs": [],
   "source": [
    "# Subscribe to the 'retail_data' topic\n",
    "consumer.subscribe(['product_data'])"
   ]
  },
  {
   "cell_type": "code",
   "execution_count": 42,
   "id": "5e5d902f",
   "metadata": {},
   "outputs": [
    {
     "name": "stdout",
     "output_type": "stream",
     "text": [
      "0\n"
     ]
    }
   ],
   "source": [
    "# Continually read messages from Kafka\n",
    "c=0\n",
    "try:\n",
    "    while True:\n",
    "        msg = consumer.poll(1.0)\n",
    "\n",
    "        if msg is None:\n",
    "            continue\n",
    "        if msg.error():\n",
    "            print('Consumer error: {}'.format(msg.error()))\n",
    "            continue\n",
    "        \n",
    "        #Change the category column to lowercase,in source it's in uppercase.\n",
    "        #msg.value()['category'] = msg.value()['category'].lower() \n",
    "        \n",
    "        # updating the price to half if product belongs to 'category a'\n",
    "        #if msg.value()['category'] == 'category a':\n",
    "            \n",
    "            #msg.value()['price'] = msg.value()['price'] * 0.5\n",
    "            #msg.value()['price'] = round(msg.value()['price'],2)\n",
    "            \n",
    "        print('Successfully consumed record with key {} and value {}'.format(msg.key(), msg.value()))\n",
    "        c=c+1\n",
    "        json_string = json.dumps(msg.value(), default=datetime_encoder)\n",
    "\n",
    "        def write_to_json_file(json_string, file_path):\n",
    "            with open(file_path, 'a') as file:\n",
    "                file.write(json_string + '\\n')\n",
    "\n",
    "        # Check if the file exists\n",
    "        if not os.path.isfile(file_path):\n",
    "            # Create the file and write the initial data\n",
    "            with open(file_path, 'w') as file:\n",
    "                file.write(json_string + '\\n')\n",
    "                \n",
    "        else:\n",
    "            # Append the data to the existing file\n",
    "            write_to_json_file(json_string, file_path)\n",
    "            print(\"json_string data is added to the JSON file.\")\n",
    "        file.close()\n",
    "        \n",
    "except KeyboardInterrupt:\n",
    "    pass\n",
    "finally:\n",
    "    consumer.close()\n",
    "    \n",
    "print(c)"
   ]
  },
  {
   "cell_type": "code",
   "execution_count": null,
   "id": "77c2c3a2",
   "metadata": {},
   "outputs": [],
   "source": []
  }
 ],
 "metadata": {
  "kernelspec": {
   "display_name": "Python 3 (ipykernel)",
   "language": "python",
   "name": "python3"
  },
  "language_info": {
   "codemirror_mode": {
    "name": "ipython",
    "version": 3
   },
   "file_extension": ".py",
   "mimetype": "text/x-python",
   "name": "python",
   "nbconvert_exporter": "python",
   "pygments_lexer": "ipython3",
   "version": "3.9.12"
  }
 },
 "nbformat": 4,
 "nbformat_minor": 5
}
